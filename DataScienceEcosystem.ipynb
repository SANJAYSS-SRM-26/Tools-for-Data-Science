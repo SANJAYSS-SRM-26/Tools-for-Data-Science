{
 "cells": [
  {
   "cell_type": "markdown",
   "id": "d04bc4e7-58de-464e-82fd-b1c195c47fab",
   "metadata": {},
   "source": [
    "# Data Science Tools and Ecosystem"
   ]
  },
  {
   "cell_type": "markdown",
   "id": "6b83a454-514b-4684-b4e4-152cfebed1bb",
   "metadata": {},
   "source": [
    "In this notebook, Data Science Tools and Ecosystem are summarized."
   ]
  },
  {
   "cell_type": "markdown",
   "id": "d717d2d7-1685-4bb3-9a86-02bbfc996b9a",
   "metadata": {},
   "source": [
    "Some of the popular languages that Data Scientists use are:\n",
    "\n",
    "1. Python\n",
    "2. R\n",
    "3. SQL\n",
    "4. Julia\n",
    "5. Scala"
   ]
  },
  {
   "cell_type": "markdown",
   "id": "8c4eea89-5848-436d-8a6e-8d4dfc1cf915",
   "metadata": {},
   "source": [
    "Some of the commonly used libraries used by Data Scientists include:\n",
    "\n",
    "1. NumPy\n",
    "2. Pandas\n",
    "3. Matplotlib\n",
    "4. Scikit-learn\n",
    "5. TensorFlow"
   ]
  },
  {
   "cell_type": "markdown",
   "id": "b1d02c5b-a29e-463f-a17e-ac2b1d9f5e86",
   "metadata": {},
   "source": [
    "| Data Science Tools |\r\n",
    "|:--------:|\r\n",
    "|Jupyter Notebook1   |\r\n",
    "RStudiow 2   |\r",
    "Apache Zeppelinow 3    |\n"
   ]
  },
  {
   "cell_type": "markdown",
   "id": "8654177b-8302-42e7-b5e3-31b78b87e996",
   "metadata": {},
   "source": [
    "### Below are a few examples of evaluating arithmetic expressions in Python.\r\n"
   ]
  },
  {
   "cell_type": "code",
   "execution_count": 1,
   "id": "e1022ae9-e28c-40c5-a235-9e0f3dfa8f40",
   "metadata": {},
   "outputs": [
    {
     "data": {
      "text/plain": [
       "17"
      ]
     },
     "execution_count": 1,
     "metadata": {},
     "output_type": "execute_result"
    }
   ],
   "source": [
    "# This is a simple arithmetic expression to multiply then add integers.\n",
    "result = (3 * 4) + 5\n",
    "result\n"
   ]
  },
  {
   "cell_type": "code",
   "execution_count": 2,
   "id": "bee4b157-590a-4a38-80ac-4a7e1336c4cf",
   "metadata": {},
   "outputs": [
    {
     "data": {
      "text/plain": [
       "3.3333333333333335"
      ]
     },
     "execution_count": 2,
     "metadata": {},
     "output_type": "execute_result"
    }
   ],
   "source": [
    "# This will convert 200 minutes to hours by dividing by 60.\n",
    "hours = 200 / 60\n",
    "hours\n"
   ]
  },
  {
   "cell_type": "markdown",
   "id": "9f807c03-0cca-4afe-979d-410e5d590907",
   "metadata": {},
   "source": [
    "**Objectives:**\r\n",
    "\r\n",
    "- List popular languages for Data Science.\r\n",
    "- Introduce arithmetic expression examples in Python.\r\n",
    "- Demonstrate how to perform arithmetic operations in code cells.\r\n",
    "- Convert minutes to hours using Python expressions.\r\n"
   ]
  },
  {
   "cell_type": "markdown",
   "id": "ac3c66ad-2e84-406e-9294-c20a567edd83",
   "metadata": {},
   "source": [
    "## Author\n",
    "SANJAY S S"
   ]
  },
  {
   "cell_type": "code",
   "execution_count": null,
   "id": "08567bd8-aa8f-4c81-998d-813cf2855559",
   "metadata": {},
   "outputs": [],
   "source": []
  }
 ],
 "metadata": {
  "kernelspec": {
   "display_name": "Python 3 (ipykernel)",
   "language": "python",
   "name": "python3"
  },
  "language_info": {
   "codemirror_mode": {
    "name": "ipython",
    "version": 3
   },
   "file_extension": ".py",
   "mimetype": "text/x-python",
   "name": "python",
   "nbconvert_exporter": "python",
   "pygments_lexer": "ipython3",
   "version": "3.11.7"
  }
 },
 "nbformat": 4,
 "nbformat_minor": 5
}
